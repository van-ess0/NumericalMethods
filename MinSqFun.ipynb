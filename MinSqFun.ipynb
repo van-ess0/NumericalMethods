{
 "cells": [
  {
   "cell_type": "code",
   "execution_count": 1,
   "metadata": {
    "collapsed": true
   },
   "outputs": [],
   "source": [
    "import numpy as np\n",
    "import matplotlib.pyplot as plt\n",
    "from scipy.optimize import minimize\n",
    "from math import fabs"
   ]
  },
  {
   "cell_type": "code",
   "execution_count": 2,
   "metadata": {},
   "outputs": [],
   "source": [
    "eps = 1.e-6"
   ]
  },
  {
   "cell_type": "code",
   "execution_count": 22,
   "metadata": {},
   "outputs": [],
   "source": [
    "def function(point):\n",
    "    (x, y, z) = point\n",
    "    return 2 * x ** 2 + (3 + 0.1 * 9) * y ** 2 + (4 + 0.1 * 9) * z ** 2 + x * y - y * z + x * z + x - 2 * y + 3 * z + 9\n",
    "\n",
    "def grad_fun(point):\n",
    "    # print(point)\n",
    "    ans1 = lambda point: 4 * point[0] + point[1] + point[2] + 1\n",
    "    ans2 = lambda point: 2 * (3 + 0.9) * point[1] + point[0] - point[2] - 2\n",
    "    ans3 = lambda point: 2 * (4 + 0.9) * point[2] - point[1] + point[0] + 3\n",
    "    return np.array([ans1(point), ans2(point), ans3(point)])\n",
    "\n",
    "def grad(func, point):\n",
    "    return res\n",
    "\n",
    "delta = 4.9"
   ]
  },
  {
   "cell_type": "code",
   "execution_count": 5,
   "metadata": {},
   "outputs": [],
   "source": [
    "def one_dimension_optimization(func, a, b, eps):\n",
    "    \"\"\"\n",
    "\n",
    "    :param func:\n",
    "    :param a:\n",
    "    :param b:\n",
    "    :param eps:\n",
    "    :return:\n",
    "    \"\"\"\n",
    "    c = (b + a) / 2\n",
    "    # print(a, b, c)\n",
    "    if fabs(b - a) < eps:\n",
    "        return c\n",
    "    if func(c + eps) < func(c - eps):\n",
    "        return one_dimension_optimization(func, c, b, eps)\n",
    "    else:\n",
    "        return one_dimension_optimization(func, a, c, eps)"
   ]
  },
  {
   "cell_type": "code",
   "execution_count": 30,
   "metadata": {},
   "outputs": [],
   "source": [
    "def fastest_gradient_descent(func, start=None):\n",
    "    if start is None:\n",
    "        start = np.array([-10, 10, 10])\n",
    "    while True:\n",
    "        gr = grad_fun(start)\n",
    "        a = one_dimension_optimization(\n",
    "            lambda a: func(start - gr.dot(a)),\n",
    "            0., 100.,\n",
    "            eps / 10,\n",
    "        )\n",
    "        # a = minimize(lambda a: func(start - gr.dot(a)), 0, method='nelder-mead', options={'xtol': 1e-8, 'disp': True})\n",
    "        end = start - gr.dot(a)\n",
    "        if (1 / delta) * np.linalg.norm(gr) < eps:\n",
    "            return end\n",
    "        else:\n",
    "            start = end"
   ]
  },
  {
   "cell_type": "code",
   "execution_count": 31,
   "metadata": {},
   "outputs": [
    {
     "name": "stdout",
     "output_type": "stream",
     "text": [
      "Min at:  [-0.25035366  0.25588297 -0.2544657 ]\n"
     ]
    }
   ],
   "source": [
    "print(\"Min at: \", fastest_gradient_descent(function))"
   ]
  },
  {
   "cell_type": "code",
   "execution_count": 26,
   "metadata": {},
   "outputs": [],
   "source": [
    "def fastest_coordinate_descent(func, start=None, coord=0):\n",
    "    if start is None:\n",
    "        start = np.array([-10, 10, 10])\n",
    "    gr = np.eye(3)[coord]\n",
    "    # print(gr)\n",
    "    a = one_dimension_optimization(\n",
    "        lambda a: func(start - gr.dot(a)),\n",
    "        -50., 50.,\n",
    "        eps / 10,\n",
    "    )\n",
    "    end = start - gr.dot(a)\n",
    "    # print(end)\n",
    "    # print('norm:', np.linalg.norm(start - end))\n",
    "    return end if (1 / delta) * np.linalg.norm(start - end) < eps else fastest_coordinate_descent(func, end, (coord + 1) % 3)"
   ]
  },
  {
   "cell_type": "code",
   "execution_count": 32,
   "metadata": {},
   "outputs": [
    {
     "name": "stdout",
     "output_type": "stream",
     "text": [
      "Min at:  [-0.25035528  0.25588343 -0.25446453]\n"
     ]
    }
   ],
   "source": [
    "print(\"Min at: \", fastest_coordinate_descent(function))"
   ]
  },
  {
   "cell_type": "code",
   "execution_count": null,
   "metadata": {},
   "outputs": [],
   "source": []
  }
 ],
 "metadata": {
  "kernelspec": {
   "display_name": "Python 2",
   "language": "python",
   "name": "python2"
  },
  "language_info": {
   "codemirror_mode": {
    "name": "ipython",
    "version": 2
   },
   "file_extension": ".py",
   "mimetype": "text/x-python",
   "name": "python",
   "nbconvert_exporter": "python",
   "pygments_lexer": "ipython2",
   "version": "2.7.6"
  }
 },
 "nbformat": 4,
 "nbformat_minor": 0
}
