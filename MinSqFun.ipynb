{
 "cells": [
  {
   "cell_type": "code",
   "execution_count": 12,
   "metadata": {
    "collapsed": true
   },
   "outputs": [],
   "source": [
    "import numpy as np\n",
    "import matplotlib.pyplot as plt\n",
    "from scipy.optimize import minimize\n",
    "from math import fabs"
   ]
  },
  {
   "cell_type": "code",
   "execution_count": 13,
   "metadata": {},
   "outputs": [],
   "source": [
    "eps = 0.0000001"
   ]
  },
  {
   "cell_type": "code",
   "execution_count": 14,
   "metadata": {},
   "outputs": [],
   "source": [
    "def function(point):\n",
    "    (x, y, z) = point\n",
    "    return 2 * x ** 2 + (3 + 0.1 * 9) * y ** 2 + (4 + 0.1 * 9) * z ** 2 + x * y - y * z + x * z + x - 2 * y + 3 * z + 9\n",
    "\n",
    "def grad_fun(point):\n",
    "    # print(point)\n",
    "    ans1 = lambda point: 4 * point[0] + point[1] + point[2] + 1\n",
    "    ans2 = lambda point: 2 * (3 + 0.9) * point[1] + point[0] - point[2] - 2\n",
    "    ans3 = lambda point: 2 * (4 + 0.9) * point[2] - point[1] + point[0] + 3\n",
    "    return np.array([ans1(point), ans2(point), ans3(point)])\n",
    "\n",
    "def grad(func, point):\n",
    "    # res = np.array([der(func, i, point) for i in range(1, 4)])\n",
    "    return res"
   ]
  },
  {
   "cell_type": "code",
   "execution_count": 15,
   "metadata": {},
   "outputs": [],
   "source": [
    "def one_dimension_optimization(func, a, b, eps):\n",
    "    \"\"\"\n",
    "\n",
    "    :param func:\n",
    "    :param a:\n",
    "    :param b:\n",
    "    :param eps:\n",
    "    :return:\n",
    "    \"\"\"\n",
    "    c = (b + a) / 2\n",
    "    # print(a, b, c)\n",
    "    if fabs(b - a) < eps:\n",
    "        return c\n",
    "    if func(c + eps) < func(c - eps):\n",
    "        return one_dimension_optimization(func, c, b, eps)\n",
    "    else:\n",
    "        return one_dimension_optimization(func, a, c, eps)"
   ]
  },
  {
   "cell_type": "code",
   "execution_count": 16,
   "metadata": {},
   "outputs": [],
   "source": [
    "def fastest_gradient_descent(func, start=None):\n",
    "    if start is None:\n",
    "        start = np.array([-10465, -1065, 10000])\n",
    "    gr = grad_fun(start)\n",
    "    # print(gr)\n",
    "    a = one_dimension_optimization(\n",
    "        lambda a: func(start - gr.dot(a)),\n",
    "        0., 100.,\n",
    "        eps / 100,\n",
    "    )\n",
    "    # a = minimize(lambda a: func(start - gr.dot(a)), 0, method='nelder-mead', options={'xtol': 1e-8, 'disp': True})\n",
    "    end = start - gr.dot(a)\n",
    "    # print(end)\n",
    "    # print('norm:', np.linalg.norm(start - end))\n",
    "    return end if (np.linalg.norm(start - end) < eps) else fastest_gradient_descent(func, end)"
   ]
  },
  {
   "cell_type": "code",
   "execution_count": 17,
   "metadata": {},
   "outputs": [],
   "source": [
    "def fastest_coordinate_descent(func, start=None, coord=0):\n",
    "    if start is None:\n",
    "        start = np.array([-10465, -1065, 10000])\n",
    "    gr = np.eye(3)[coord]\n",
    "    # print(gr)\n",
    "    a = one_dimension_optimization(\n",
    "        lambda a: func(start - gr.dot(a)),\n",
    "        -50., 50.,\n",
    "        eps / 100,\n",
    "    )\n",
    "    # a = minimize(lambda a: func(start - gr.dot(a)), 0, method='nelder-mead', options={'xtol': 1e-8, 'disp': True})\n",
    "    end = start - gr.dot(a)\n",
    "    # print(end)\n",
    "    # print('norm:', np.linalg.norm(start - end))\n",
    "    return end if (np.linalg.norm(start - end) < eps) else fastest_coordinate_descent(func, end, (coord + 1) % 3)"
   ]
  },
  {
   "cell_type": "code",
   "execution_count": 19,
   "metadata": {},
   "outputs": [
    {
     "name": "stdout",
     "output_type": "stream",
     "text": [
      "Min at:  [-0.2503543   0.25588325 -0.25446549]\n"
     ]
    }
   ],
   "source": [
    "print(\"Min at: \", fastest_coordinate_descent(function))"
   ]
  },
  {
   "cell_type": "code",
   "execution_count": null,
   "metadata": {},
   "outputs": [],
   "source": [
    ""
   ]
  }
 ],
 "metadata": {
  "kernelspec": {
   "display_name": "Python 2",
   "language": "python",
   "name": "python2"
  },
  "language_info": {
   "codemirror_mode": {
    "name": "ipython",
    "version": 2.0
   },
   "file_extension": ".py",
   "mimetype": "text/x-python",
   "name": "python",
   "nbconvert_exporter": "python",
   "pygments_lexer": "ipython2",
   "version": "2.7.6"
  }
 },
 "nbformat": 4,
 "nbformat_minor": 0
}